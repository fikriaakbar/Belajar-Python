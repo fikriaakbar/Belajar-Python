{
 "cells": [
  {
   "cell_type": "markdown",
   "metadata": {},
   "source": [
    "# Pengenalan Python"
   ]
  },
  {
   "cell_type": "markdown",
   "metadata": {},
   "source": [
    "# Python"
   ]
  },
  {
   "attachments": {},
   "cell_type": "markdown",
   "metadata": {},
   "source": [
    "Pada awalnya, motivasi pembuatan bahasa pemrograman ini adalah untuk bahasa skrip tingkat tinggi\n",
    "pada sistem operasi terdistribusi amoeba. Bahasa pemrograman ini menjadi umum digunakan untuk kalangan\n",
    "engineer seluruh dunia dalam pembuatan perangkat lunaknya, bahkan beberapa perusahaan menggunakan\n",
    "python sebagai pembuat perangkat lunak komersial.\n",
    "\n",
    "Python merupakan bahasa pemrograman yang freeware atau perangkat bebas dalam arti sebenarnya,\n",
    "tidak ada batasan dalam penyalinannya atau mendistribusikannya. Lengkap dengan source codenya, debugger\n",
    "dan profiler, antarmuka yang terkandung di dalamnya untuk pelayanan antarmuka, fungsi sistem, GUI\n",
    "(antarmuka pengguna grafis), dan basis datanya."
   ]
  },
  {
   "cell_type": "markdown",
   "metadata": {},
   "source": [
    "# Sejarah Python"
   ]
  },
  {
   "attachments": {},
   "cell_type": "markdown",
   "metadata": {},
   "source": [
    "Python dikembangkan oleh guido van rossum pada tahun 1990 di CWI, amsterdam sebagai\n",
    "kelanjutan dari bahasa pemrograman ABC. Versi terakhir yang dikeluarkan CWI adalah 1.2.\n",
    "\n",
    "Tahun 1995, guido pindah ke cnri sambil terus melanjutkan pengembangan python. Versi terakhir\n",
    "yang dikeluarkan adalah 1.6. Tahun 2000, guido dan para pengembang inti python pindah ke beopen.Com\n",
    "yang merupakan sebuah perusahaan komersial dan membentuk beopen pythonlabs. Python 2.0\n",
    "dikeluarkan oleh beopen. Setelah mengeluarkan python 2.0, guido dan beberapa anggota tim pythonlabs\n",
    "pindah ke digitalcreations."
   ]
  },
  {
   "cell_type": "markdown",
   "metadata": {},
   "source": [
    "# Kelebihan Python"
   ]
  },
  {
   "attachments": {},
   "cell_type": "markdown",
   "metadata": {},
   "source": [
    "1. Tidak ada tahapan kompilasi dan penyambungan (link) sehingga kecepatan perubahan pada masa\n",
    "2. Pembuatan system aplikasi meningkat.\n",
    "3. Tidak ada deklarasi tipe sehingga program menjadi lebih sederhana, singkat, dan fleksible.\n",
    "4. Manajemen memori otomatis yaitu kumpulan sampah memori sehingga dapat menghindari pencatatan kode\n",
    "5. Tipe data dan operasi tingkat tinggi yaitu kecepatan pembuatan system aplikasi menggunakan tipe objek yang telah ada\n",
    "6. Pemrograman berorientasi objek"
   ]
  },
  {
   "cell_type": "markdown",
   "metadata": {},
   "source": [
    "# Kekurangan Python"
   ]
  },
  {
   "attachments": {},
   "cell_type": "markdown",
   "metadata": {},
   "source": [
    "1. Beberapa penugasan terdapat diluar dari jangkauan python, seperti bahasa pemrograman dinamis lainnya, python tidak secepat atau efisien sebagai statis, tidak seperti bahasa pemrograman kompilasi seperti bahasa C.\n",
    "2. Disebabkan python merupakan interpreter, python bukan merupakan perangkat bantu terbaik untuk pengantar komponen performa kritis.\n",
    "3. Python tidak dapat digunakan sebagai dasar bahasa pemrograman implementasi untuk beberapa komponen, tetapi dapat bekerja dengan baik sebagai bagian depan skrip antarmuka untuk mereka.\n",
    "4. Python memberikan efisiensi dan fleksibilitas tradeoff by dengan tidak memberikannya secara menyeluruh.\n",
    "5. Python menyediakan bahasa pemrograman optimasi untuk kegunaan, bersama dengan perangkat bantu yang dibutuhkan untuk diintegrasikan dengan bahasa pemrograman lainnya."
   ]
  },
  {
   "cell_type": "markdown",
   "metadata": {},
   "source": [
    "# Aturan Penulisan"
   ]
  },
  {
   "attachments": {},
   "cell_type": "markdown",
   "metadata": {},
   "source": [
    "Program-program yang ditulis dalam Python secara khas jauh lebih pendek dibandingkan\n",
    "dengan program-program C atau C++, karena beberapa pertimbangan:\n",
    "1. Tipe data tingkat tinggi digunakan untuk menyatakan operasi kompleks dalam suatu statemen\n",
    "tunggal;\n",
    "2. Pengelompokan statemen telah selesai dengan indentasi sebagai pengganti dari pengurungan\n",
    "mulai dan akhiran;\n",
    "3. Tidak ada deklarasi-deklarasi argumentasi atau variabel yang diperlukan."
   ]
  },
  {
   "cell_type": "markdown",
   "metadata": {},
   "source": [
    "# Variabel"
   ]
  },
  {
   "attachments": {},
   "cell_type": "markdown",
   "metadata": {},
   "source": [
    "Sebuah variabel adalah sebuah nama yang mempunyai sebuah nilai. Pendeklarasian kalimat\n",
    "membuat sebuah variabel - variabel baru dan memberinya nilai."
   ]
  },
  {
   "cell_type": "code",
   "execution_count": 5,
   "metadata": {},
   "outputs": [
    {
     "name": "stdout",
     "output_type": "stream",
     "text": [
      "FikriAkbar\n"
     ]
    }
   ],
   "source": [
    "nama = \"FikriAkbar\"\n",
    "print (nama)"
   ]
  },
  {
   "cell_type": "markdown",
   "metadata": {},
   "source": [
    "# Tipe Data"
   ]
  },
  {
   "cell_type": "markdown",
   "metadata": {},
   "source": [
    "1. Bilangan (Number)\n",
    "2. String\n",
    "3. List\n",
    "4. Tuple\n",
    "5. Set\n",
    "6. Dictionary"
   ]
  },
  {
   "cell_type": "markdown",
   "metadata": {},
   "source": [
    "# String"
   ]
  },
  {
   "cell_type": "markdown",
   "metadata": {},
   "source": [
    "String adalah satu atau serangkaian karakter yang diletakkan diantara tanda kutip, baik tanda kutip tunggal ( ‘ ) maupun ganda ( ” ). Huruf, angka, maupun karakter lainnya yang digabung menjadi teks adalah contoh string."
   ]
  },
  {
   "cell_type": "code",
   "execution_count": 2,
   "metadata": {},
   "outputs": [
    {
     "name": "stdout",
     "output_type": "stream",
     "text": [
      "Belajar Python\n"
     ]
    }
   ],
   "source": [
    "#Tipe Data String\n",
    "foo = \"Belajar Python\"\n",
    "print(foo)"
   ]
  },
  {
   "cell_type": "markdown",
   "metadata": {},
   "source": [
    "# Number"
   ]
  },
  {
   "cell_type": "markdown",
   "metadata": {},
   "source": [
    "Tipe data bilangan yang umum ada 2 yaitu, integer dan float. Integer adalah bilangan bulat, sedangkan float adalah bilangan pecahan. Selain itu ada tipe bilangan lain, yaitu bilangan kompleks yaitu bilangan yang memiliki bagian real dan imajiner. Integer, float, dan kompleks masing-masing di Python diwakili oleh kelas int, float, dan complex."
   ]
  },
  {
   "cell_type": "markdown",
   "metadata": {},
   "source": [
    "Integer"
   ]
  },
  {
   "cell_type": "code",
   "execution_count": 5,
   "metadata": {
    "scrolled": true
   },
   "outputs": [
    {
     "data": {
      "text/plain": [
       "int"
      ]
     },
     "execution_count": 5,
     "metadata": {},
     "output_type": "execute_result"
    }
   ],
   "source": [
    "#Tipe Data Integer\n",
    "foo = 1500\n",
    "type(foo)"
   ]
  },
  {
   "cell_type": "markdown",
   "metadata": {},
   "source": [
    "Float"
   ]
  },
  {
   "cell_type": "code",
   "execution_count": 6,
   "metadata": {},
   "outputs": [
    {
     "data": {
      "text/plain": [
       "float"
      ]
     },
     "execution_count": 6,
     "metadata": {},
     "output_type": "execute_result"
    }
   ],
   "source": [
    "#Tipe Data Float\n",
    "foo = 99.123\n",
    "type(foo)"
   ]
  },
  {
   "cell_type": "markdown",
   "metadata": {},
   "source": [
    "Bilangan Kompleks"
   ]
  },
  {
   "cell_type": "code",
   "execution_count": 7,
   "metadata": {},
   "outputs": [
    {
     "data": {
      "text/plain": [
       "complex"
      ]
     },
     "execution_count": 7,
     "metadata": {},
     "output_type": "execute_result"
    }
   ],
   "source": [
    "#Tipe Data Complex Number\n",
    "foo = 4j\n",
    "type(foo)"
   ]
  },
  {
   "cell_type": "markdown",
   "metadata": {},
   "source": [
    "# String "
   ]
  },
  {
   "cell_type": "markdown",
   "metadata": {},
   "source": [
    "String adalah satu atau serangkaian karakter yang diletakkan diantara tanda kutip, baik tanda kutip tunggal ( ‘ ) maupun ganda ( ” ). Huruf, angka, maupun karakter lainnya yang digabung menjadi teks adalah contoh string.\n",
    "\n",
    "String adalah tipe data yang anggotanya berurut dan memiliki indeks. Indeks dimulai dari angka 0 bila dimulai dari depan dan -1 bila diindeks dari belakang. Tiap karakter bisa diakses menggunakan indeksnya dengan formatnamastring[indeks] . Pada string juga bisa dilakukan slicing atau mengakses sekelompok substring dengan format namastring[awal:akhir]. Untuk jelasnya bisa diperhatikan contoh berikut."
   ]
  },
  {
   "cell_type": "code",
   "execution_count": 11,
   "metadata": {},
   "outputs": [
    {
     "name": "stdout",
     "output_type": "stream",
     "text": [
      "Nama Saya Fikri\n",
      "N\n",
      "i\n",
      "Say\n",
      "Nama\n"
     ]
    }
   ],
   "source": [
    "kalimat = \"Nama Saya Fikri\"\n",
    "\n",
    "print(kalimat)      # print string lengkap\n",
    "print(kalimat[0])   # print karakter pertama\n",
    "print(kalimat[-1])  # print karakter terakhir\n",
    "print(kalimat[5:8]) # print dari indeks 5 - 7\n",
    "print(kalimat[:4])  # print dari indeks 0 - 3"
   ]
  },
  {
   "cell_type": "markdown",
   "metadata": {},
   "source": [
    "# List"
   ]
  },
  {
   "cell_type": "markdown",
   "metadata": {},
   "source": [
    "List adalah tipe data yang berisi item yang berurut. Seperti halnya tipe data string, tiap item (anggota) list memiliki indeks sesuai dengan urutannya. Indeks dimulai dari 0 dan bukan dari 1.\n",
    "\n",
    "List bisa berisi anggota dengan tipe yang sama maupun berbeda. Untuk mendeklarasikan list, digunakan tanda kurung [ ] dan masing-masing anggotanya dipisahkan oleh tanda koma."
   ]
  },
  {
   "cell_type": "code",
   "execution_count": 12,
   "metadata": {},
   "outputs": [
    {
     "name": "stdout",
     "output_type": "stream",
     "text": [
      "['satu', 'dua', 'tiga', 'satu']\n"
     ]
    }
   ],
   "source": [
    "#Tipe Data List\n",
    "foo = [\"satu\",\"dua\",\"tiga\",\"satu\"]\n",
    "print(foo)"
   ]
  },
  {
   "cell_type": "markdown",
   "metadata": {},
   "source": [
    "# Tuple"
   ]
  },
  {
   "cell_type": "markdown",
   "metadata": {},
   "source": [
    "Tuple adalah jenis data lain yang mirip dengan list. Perbedaannya dengan list adalah anggotanya tidak bisa diubah (immutable). List bersifat mutable, sedangkan tuple bersifat immutable. Sekali tuple dibuat, maka isinya tidak bisa dimodifikasi lagi."
   ]
  },
  {
   "cell_type": "code",
   "execution_count": 13,
   "metadata": {},
   "outputs": [
    {
     "name": "stdout",
     "output_type": "stream",
     "text": [
      "('satu', 'dua', 'tiga', 'satu')\n"
     ]
    }
   ],
   "source": [
    "#Tipe Data Tuple\n",
    "foo = (\"satu\",\"dua\",\"tiga\",\"satu\")\n",
    "print(foo)"
   ]
  },
  {
   "cell_type": "markdown",
   "metadata": {},
   "source": [
    "# Set"
   ]
  },
  {
   "cell_type": "markdown",
   "metadata": {},
   "source": [
    "Set adalah salah satu tipe data di Python yang tidak berurut (unordered). Set memiliki anggota yang unik (tidak ada duplikasi). Jadi misalnya kalau kita meletakkan dua anggota yang sama di dalam set, maka otomatis set akan menghilangkan yang salah satunya."
   ]
  },
  {
   "cell_type": "code",
   "execution_count": 17,
   "metadata": {},
   "outputs": [
    {
     "name": "stdout",
     "output_type": "stream",
     "text": [
      "{'dua', 'empat', 'tiga', 'satu'}\n"
     ]
    }
   ],
   "source": [
    "#Tipe Data Set\n",
    "foo = {\"satu\",\"dua\",\"tiga\",\"empat\"}\n",
    "print(foo)"
   ]
  },
  {
   "cell_type": "markdown",
   "metadata": {},
   "source": [
    "# Dictionary"
   ]
  },
  {
   "cell_type": "markdown",
   "metadata": {},
   "source": [
    "Dictionary adalah tipe data yang tiap anggotanya terdiri dari pasangan kunci-nilai (key-value). Mirip dengan kamus dimana ada kata ada arti. Dictionary umumnya dipakai untuk data yang besar dan untuk mengakses anggota data secara acak. Anggota dictionary tidak memiliki indeks.\n",
    "\n",
    "Dictionary dideklarasikan dengan menggunakan tanda kurung kurawal { }, dimana anggotanya memiliki bentuk kunci:nilai atau key:value dan tiap anggota dipisah tanda koma. Kunci dan nilainya bisa memiliki tipe sembarang.\n",
    "\n",
    "Untuk mengakses nilai dari anggota dictionary, kita menggunakan key-nya."
   ]
  },
  {
   "cell_type": "code",
   "execution_count": 26,
   "metadata": {},
   "outputs": [
    {
     "name": "stdout",
     "output_type": "stream",
     "text": [
      "{'satu': 1, 'dua': 2.13, 'tiga': 'a', 'empat': True}\n",
      "Saya memilih angka  1\n"
     ]
    }
   ],
   "source": [
    "#Tipe Data Dictionary\n",
    "foo = {\"satu\":1, \"dua\":2.13, \"tiga\":\"a\", \"empat\": True}\n",
    "print(foo)\n",
    "print(\"Saya memilih angka \", foo['satu'])"
   ]
  },
  {
   "cell_type": "markdown",
   "metadata": {},
   "source": [
    "# Instalasi Python"
   ]
  },
  {
   "cell_type": "markdown",
   "metadata": {},
   "source": [
    "1. Buka browser, kunjungi http://www.python.org/downloads/windows/\n",
    "2. ATAU, klik direct link https://www.python.org/ftp/python/3.4.3/python-3.4.3.msi\n",
    "3. Buka (klik 2x) file installer python yang baru saja di download\n",
    "4. Ikuti langkah instalasi sampai selesai"
   ]
  },
  {
   "cell_type": "markdown",
   "metadata": {},
   "source": [
    "# Source"
   ]
  },
  {
   "cell_type": "markdown",
   "metadata": {},
   "source": [
    "https://www.pythonindo.com/variabel-dan-tipe-data-python/\n",
    "https://www.duniailkom.com/tutorial-belajar-python-jenis-jenis-tipe-data-dalam-bahasa-python/\n",
    "https://belajarpython.com/tutorial/tipe-data-python\n",
    "https://belajarpython.com/tutorial/instalasi-python\n",
    "http://dini3asa.staff.gunadarma.ac.id/Downloads/folder/0.2"
   ]
  }
 ],
 "metadata": {
  "kernelspec": {
   "display_name": "Python 3",
   "language": "python",
   "name": "python3"
  },
  "language_info": {
   "codemirror_mode": {
    "name": "ipython",
    "version": 3
   },
   "file_extension": ".py",
   "mimetype": "text/x-python",
   "name": "python",
   "nbconvert_exporter": "python",
   "pygments_lexer": "ipython3",
   "version": "3.7.1"
  }
 },
 "nbformat": 4,
 "nbformat_minor": 2
}
